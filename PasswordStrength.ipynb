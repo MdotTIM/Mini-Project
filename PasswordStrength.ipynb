{
  "nbformat": 4,
  "nbformat_minor": 0,
  "metadata": {
    "colab": {
      "name": "PasswordStrength",
      "provenance": [],
      "collapsed_sections": [],
      "authorship_tag": "ABX9TyPBCbSbDMdpVsZ0BN5BqHrY"
    },
    "kernelspec": {
      "name": "python3",
      "display_name": "Python 3"
    }
  },
  "cells": [
    {
      "cell_type": "code",
      "metadata": {
        "id": "vvsp6vCV90us",
        "colab_type": "code",
        "colab": {}
      },
      "source": [
        "import numpy as np\n",
        "import keras\n",
        "import pickle\n",
        "import sys\n",
        "\n",
        "from keras.preprocessing.text import Tokenizer\n",
        "\n",
        "from keras.models import Sequential\n",
        "from keras.layers import Dense, Dropout, Activation\n",
        "from keras.models import model_from_json\n",
        "\n",
        "from itertools import product"
      ],
      "execution_count": 1,
      "outputs": []
    },
    {
      "cell_type": "code",
      "metadata": {
        "id": "ZSxOrA1YRe8e",
        "colab_type": "code",
        "colab": {}
      },
      "source": [
        "def bigram_generator(x):\n",
        "    for i in range(2,len(x)+1):\n",
        "        yield x[i-2:i]\n",
        "\n",
        "\n",
        "def string2matrix(in_str):\n",
        "    arr = np.zeros((1, len(vocab)))\n",
        "    for bigram in bigram_generator(in_str):\n",
        "        j = bigram2ind[bigram]\n",
        "        arr[0][j] = 1\n",
        "    return arr\n",
        "\n",
        "\n",
        "def accuracy(test_set, true_labels):\n",
        "    matrix = np.zeros((len(test_set), len(vocab)))\n",
        "    for i, x in enumerate(test_set):\n",
        "        for bigram in bigram_generator(x):\n",
        "            j = bigram2ind[bigram]\n",
        "            matrix[i][j] = 1\n",
        "\n",
        "    M = model.predict(matrix)\n",
        "    pred = np.argmax(M, 1)\n",
        "\n",
        "    error = sum(pred ^ true_labels)\n",
        "\n",
        "    return (len(test_set)-error)/len(test_set) # accuracy\n",
        "\n",
        "\n",
        "def eval_list(strings, ignore_invalid=False, warnings=False):\n",
        "    matrix = np.zeros((len(strings), len(vocab)))\n",
        "    for i, x in enumerate(strings):\n",
        "        for bigram in bigram_generator(bytes(x, 'utf-8')):\n",
        "            try:\n",
        "                j = bigram2ind[bigram]\n",
        "            except:\n",
        "                if ignore_invalid:\n",
        "                    if warnings:\n",
        "                        print(\"Invalid character in string {}\".format(x),\n",
        "                            file=sys.stderr)\n",
        "                    continue\n",
        "                else:\n",
        "                    raise\n",
        "            matrix[i][j] = 1\n",
        "\n",
        "    M = model.predict(matrix)\n",
        "    pred = np.argmax(M, 1)\n",
        "\n",
        "    return zip(strings, pred)\n",
        "\n",
        "\n",
        "def eval_string(string):\n",
        "    labels = ['non-random', 'random']\n",
        "    pred = model.predict(string2matrix(string))\n",
        "    print(\"label: %s; confidence: %f%%\" % (labels[np.argmax(pred)], pred[0][np.argmax(pred)] * 100))\n"
      ],
      "execution_count": 20,
      "outputs": []
    },
    {
      "cell_type": "code",
      "metadata": {
        "id": "scaGfzVd98M3",
        "colab_type": "code",
        "colab": {
          "base_uri": "https://localhost:8080/",
          "height": 70
        },
        "outputId": "764859c9-6cc4-4cf5-d4d1-fefefa552209"
      },
      "source": [
        "training_data = np.genfromtxt(\n",
        "    'train.tsv',\n",
        "    delimiter='\\t', usecols=(0,1), dtype=None, comments=None)\n",
        "\n",
        "train_x = [x[0] for x in training_data]\n",
        "train_y = np.asarray([x[1] for x in training_data])\n",
        "\n",
        "def bigram_generator(x):\n",
        "    for i in range(2,len(x)+1):\n",
        "        yield x[i-2:i]"
      ],
      "execution_count": 2,
      "outputs": [
        {
          "output_type": "stream",
          "text": [
            "/usr/local/lib/python3.6/dist-packages/ipykernel_launcher.py:5: VisibleDeprecationWarning: Reading unicode strings without specifying the encoding argument is deprecated. Set the encoding, use None for the system default.\n",
            "  \"\"\"\n"
          ],
          "name": "stderr"
        }
      ]
    },
    {
      "cell_type": "code",
      "metadata": {
        "id": "g2xYkVIg-AEj",
        "colab_type": "code",
        "colab": {}
      },
      "source": [
        "letters = ' !\"#$%&\\'()*+,-./0123456789:;<=>?@ABCDEFGHIJKLMNOPQRSTUVWXYZ[\\\\]^_`abcdefghijklmnopqrstuvwxyz{|}~'\n",
        "\n",
        "bigram2ind = dict()   # bigram -> index\n",
        "vocab      = list()   # index  -> bigram\n",
        "vocab_size = 0\n",
        "\n",
        "for a, b in product(letters, repeat=2): # iterate in pairs\n",
        "    bigram = bytes(a + b, 'utf-8')\n",
        "    if bigram in bigram2ind:\n",
        "        continue\n",
        "    else:\n",
        "        bigram2ind[bigram] = vocab_size\n",
        "        vocab.append(bigram)\n",
        "        vocab_size += 1"
      ],
      "execution_count": 4,
      "outputs": []
    },
    {
      "cell_type": "code",
      "metadata": {
        "id": "oOkUUuyp-Dw1",
        "colab_type": "code",
        "colab": {}
      },
      "source": [
        "matrix = np.zeros((len(train_x), vocab_size))\n",
        "for i, x in enumerate(train_x):\n",
        "    for bigram in bigram_generator(x):\n",
        "        j = bigram2ind[bigram]\n",
        "        matrix[i][j] = 1\n",
        "\n",
        "train_x = matrix\n",
        "train_y = keras.utils.to_categorical(train_y, 2)\n"
      ],
      "execution_count": 5,
      "outputs": []
    },
    {
      "cell_type": "code",
      "metadata": {
        "id": "kqJ4Ck5GAZgW",
        "colab_type": "code",
        "colab": {}
      },
      "source": [
        "model = Sequential()\n",
        "model.add(Dense(512, input_shape=(vocab_size,), activation='relu'))\n",
        "model.add(Dropout(0.5))\n",
        "model.add(Dense(256, activation='sigmoid'))\n",
        "model.add(Dropout(0.5))\n",
        "model.add(Dense(2, activation='softmax'))\n",
        "\n",
        "model.compile(loss='categorical_crossentropy',\n",
        "  optimizer='adam',\n",
        "  metrics=['accuracy'])\n"
      ],
      "execution_count": 6,
      "outputs": []
    },
    {
      "cell_type": "code",
      "metadata": {
        "id": "8xkhKGsgAdc0",
        "colab_type": "code",
        "colab": {
          "base_uri": "https://localhost:8080/",
          "height": 188
        },
        "outputId": "2a651e96-b62a-4e96-afc1-55d56f921cb1"
      },
      "source": [
        "model.fit(train_x, train_y,\n",
        "  batch_size=32,\n",
        "  epochs=4,\n",
        "  verbose=1,\n",
        "  validation_split=0.1,\n",
        "  shuffle=True)"
      ],
      "execution_count": 7,
      "outputs": [
        {
          "output_type": "stream",
          "text": [
            "Epoch 1/4\n",
            "1377/1377 [==============================] - 46s 33ms/step - loss: 0.1286 - accuracy: 0.9489 - val_loss: 0.0825 - val_accuracy: 0.9724\n",
            "Epoch 2/4\n",
            "1377/1377 [==============================] - 45s 33ms/step - loss: 0.0653 - accuracy: 0.9779 - val_loss: 0.0890 - val_accuracy: 0.9716\n",
            "Epoch 3/4\n",
            "1377/1377 [==============================] - 46s 33ms/step - loss: 0.0450 - accuracy: 0.9850 - val_loss: 0.0931 - val_accuracy: 0.9718\n",
            "Epoch 4/4\n",
            "1377/1377 [==============================] - 45s 33ms/step - loss: 0.0289 - accuracy: 0.9897 - val_loss: 0.0979 - val_accuracy: 0.9726\n"
          ],
          "name": "stdout"
        },
        {
          "output_type": "execute_result",
          "data": {
            "text/plain": [
              "<tensorflow.python.keras.callbacks.History at 0x7f2b4b098fd0>"
            ]
          },
          "metadata": {
            "tags": []
          },
          "execution_count": 7
        }
      ]
    },
    {
      "cell_type": "code",
      "metadata": {
        "id": "N9PWkDz5Afap",
        "colab_type": "code",
        "colab": {}
      },
      "source": [
        "model_json = model.to_json()\n",
        "with open('model.json', 'w') as json_file:\n",
        "    json_file.write(model_json)\n",
        "\n",
        "model.save_weights('model.h5')"
      ],
      "execution_count": 8,
      "outputs": []
    },
    {
      "cell_type": "code",
      "metadata": {
        "id": "Qb7lywQFeDdz",
        "colab_type": "code",
        "colab": {}
      },
      "source": [
        "pickle.dump(vocab, open('vocab.pickle', 'wb'))"
      ],
      "execution_count": 9,
      "outputs": []
    },
    {
      "cell_type": "code",
      "metadata": {
        "id": "nN4WVjbXeIzL",
        "colab_type": "code",
        "colab": {}
      },
      "source": [
        "vocab = pickle.load(open('vocab.pickle', 'rb'))\n",
        "bigram2ind = dict(((bigram, i) for i, bigram in enumerate(vocab)))"
      ],
      "execution_count": 10,
      "outputs": []
    },
    {
      "cell_type": "code",
      "metadata": {
        "id": "H1xSEuGieI6d",
        "colab_type": "code",
        "colab": {}
      },
      "source": [
        "with open('model.json', 'r') as model_file:\n",
        "    model = model_from_json(model_file.read())\n",
        "    model.load_weights('model.h5')"
      ],
      "execution_count": 11,
      "outputs": []
    },
    {
      "cell_type": "code",
      "metadata": {
        "id": "zlZaQ_AieJDB",
        "colab_type": "code",
        "colab": {
          "base_uri": "https://localhost:8080/",
          "height": 87
        },
        "outputId": "c0bb53e6-609e-4017-a1fb-69196233063a"
      },
      "source": [
        "# Test\n",
        "\n",
        "if __name__ == '__main__':\n",
        "    test_data = np.genfromtxt(\n",
        "        'train.tsv',\n",
        "        delimiter='\\t', usecols=(0,1), dtype=None, comments=None)\n",
        "\n",
        "    test_strings = [obs[0] for obs in test_data]\n",
        "    true_labels  = [obs[1] for obs in test_data]\n",
        "\n",
        "    print(accuracy(test_strings, true_labels))"
      ],
      "execution_count": 13,
      "outputs": [
        {
          "output_type": "stream",
          "text": [
            "/usr/local/lib/python3.6/dist-packages/ipykernel_launcher.py:6: VisibleDeprecationWarning: Reading unicode strings without specifying the encoding argument is deprecated. Set the encoding, use None for the system default.\n",
            "  \n"
          ],
          "name": "stderr"
        },
        {
          "output_type": "stream",
          "text": [
            "0.9931985294117647\n"
          ],
          "name": "stdout"
        }
      ]
    },
    {
      "cell_type": "code",
      "metadata": {
        "id": "3e0ck6suiNM_",
        "colab_type": "code",
        "colab": {
          "base_uri": "https://localhost:8080/",
          "height": 272
        },
        "outputId": "1c82294c-b759-46ae-dffa-316292ab10a3"
      },
      "source": [
        "!python3 ./classifier \"list_to_classify\""
      ],
      "execution_count": 21,
      "outputs": [
        {
          "output_type": "stream",
          "text": [
            "2020-08-12 20:04:42.449761: I tensorflow/stream_executor/platform/default/dso_loader.cc:48] Successfully opened dynamic library libcudart.so.10.1\n",
            "2020-08-12 20:04:44.406948: I tensorflow/stream_executor/platform/default/dso_loader.cc:48] Successfully opened dynamic library libcuda.so.1\n",
            "2020-08-12 20:04:44.410155: E tensorflow/stream_executor/cuda/cuda_driver.cc:314] failed call to cuInit: CUDA_ERROR_NO_DEVICE: no CUDA-capable device is detected\n",
            "2020-08-12 20:04:44.410216: I tensorflow/stream_executor/cuda/cuda_diagnostics.cc:156] kernel driver does not appear to be running on this host (3b9f04d29f39): /proc/driver/nvidia/version does not exist\n",
            "2020-08-12 20:04:44.418743: I tensorflow/core/platform/profile_utils/cpu_utils.cc:104] CPU Frequency: 2300000000 Hz\n",
            "2020-08-12 20:04:44.419042: I tensorflow/compiler/xla/service/service.cc:168] XLA service 0x2958bc0 initialized for platform Host (this does not guarantee that XLA will be used). Devices:\n",
            "2020-08-12 20:04:44.419085: I tensorflow/compiler/xla/service/service.cc:176]   StreamExecutor device (0): Host, Default Version\n",
            "lHwdGq7cYS\t1\n",
            "simple\t0\n",
            "password\t0\n",
            "12345678\t0\n",
            "qwerty\t0\n",
            "gTqtyNDKap\t1\n",
            "kktHfgi1t1\t1\n"
          ],
          "name": "stdout"
        }
      ]
    },
    {
      "cell_type": "code",
      "metadata": {
        "id": "MFs1556qtFxa",
        "colab_type": "code",
        "colab": {}
      },
      "source": [
        ""
      ],
      "execution_count": 20,
      "outputs": []
    }
  ]
}