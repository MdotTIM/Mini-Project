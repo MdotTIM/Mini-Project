{
  "nbformat": 4,
  "nbformat_minor": 0,
  "metadata": {
    "colab": {
      "name": "Step_3_5_Curry_scraping5_CSV.ipynb",
      "provenance": [],
      "collapsed_sections": [],
      "include_colab_link": true
    },
    "kernelspec": {
      "name": "python3",
      "display_name": "Python 3"
    }
  },
  "cells": [
    {
      "cell_type": "markdown",
      "metadata": {
        "id": "view-in-github",
        "colab_type": "text"
      },
      "source": [
        "<a href=\"https://colab.research.google.com/github/MdotTIM/Mini-Project/blob/master/Step_3_5_Curry_scraping5_CSV.ipynb\" target=\"_parent\"><img src=\"https://colab.research.google.com/assets/colab-badge.svg\" alt=\"Open In Colab\"/></a>"
      ]
    },
    {
      "cell_type": "code",
      "metadata": {
        "id": "2DM9j2E43eyk",
        "colab_type": "code",
        "colab": {
          "base_uri": "https://localhost:8080/",
          "height": 941
        },
        "outputId": "42b3a5b5-74e7-448e-f4e4-08f917d3728b"
      },
      "source": [
        "import time\n",
        "import requests\n",
        "from bs4 import BeautifulSoup\n",
        "import pandas as pd\n",
        "from google.colab import files\n",
        "\n",
        "\n",
        "# First, get URL and HTML, prevent garbled characters\n",
        "url = 'https://housefoods.jp/recipe/special/natsuyasaicurry/'\n",
        "response = requests.get(url)\n",
        "response.encoding = response.apparent_encoding\n",
        "\n",
        "# Analyzed by BeautifulSoup\n",
        "bs = BeautifulSoup(response.text, 'html.parser')\n",
        "\n",
        "# Extract a tag that includes the recipe name in the link and minions\n",
        "recipe_atags = bs.find_all('a', {'class': 'special_recipes_item round_corner'})\n",
        "\n",
        "# Extract names, links, calories, etc. one by one from a tags! !\n",
        "# Let's create and save to CSV dataframe\n",
        "columns = ['name', 'time', 'calorie', 'url']\n",
        "df = pd.DataFrame(columns=columns)\n",
        "\n",
        "for recipe_atag in recipe_atags:\n",
        "    name = recipe_atag.p.string\n",
        "    time_calorie_list = recipe_atag.find_all('li')\n",
        "    time = time_calorie_list[0].string\n",
        "    calorie = time_calorie_list[1].string\n",
        "    url1 = url + recipe_atag.get('href')\n",
        "    se = pd.Series([name, time, calorie, url1], columns)\n",
        "    print(se)\n",
        "    df = df.append(se, columns)\n",
        "\n",
        "filename = 'curry_recipe.csv'\n",
        "df.to_csv(filename, encoding='utf-8-sig')\n",
        "files.download(filename)\n"
      ],
      "execution_count": 1,
      "outputs": [
        {
          "output_type": "stream",
          "text": [
            "name                                         夏野菜のスパイシーキーマカレー\n",
            "time                                                    約25分\n",
            "calorie                                              268kcal\n",
            "url        https://housefoods.jp/recipe/special/natsuyasa...\n",
            "dtype: object\n",
            "name                                            野菜たっぷりキーマカレー\n",
            "time                                                    約25分\n",
            "calorie                                              267kcal\n",
            "url        https://housefoods.jp/recipe/special/natsuyasa...\n",
            "dtype: object\n",
            "name                                              牛肉と夏野菜のカレー\n",
            "time                                                    約40分\n",
            "calorie                                              381kcal\n",
            "url        https://housefoods.jp/recipe/special/natsuyasa...\n",
            "dtype: object\n",
            "name                                              エビと夏野菜のカレー\n",
            "time                                                    約30分\n",
            "calorie                                              220kcal\n",
            "url        https://housefoods.jp/recipe/special/natsuyasa...\n",
            "dtype: object\n",
            "name                                         夏野菜とやわらか卵のオムカレー\n",
            "time                                                    約50分\n",
            "calorie                                              455kcal\n",
            "url        https://housefoods.jp/recipe/special/natsuyasa...\n",
            "dtype: object\n",
            "name                                              夏野菜のチキンカレー\n",
            "time                                                    約40分\n",
            "calorie                                              207kcal\n",
            "url        https://housefoods.jp/recipe/special/natsuyasa...\n",
            "dtype: object\n",
            "name                                                 夏野菜のカレー\n",
            "time                                                    約30分\n",
            "calorie                                              265kcal\n",
            "url        https://housefoods.jp/recipe/special/natsuyasa...\n",
            "dtype: object\n",
            "name                                         和の素材を楽しむ　夏野菜カレー\n",
            "time                                                    約40分\n",
            "calorie                                              200kcal\n",
            "url        https://housefoods.jp/recipe/special/natsuyasa...\n",
            "dtype: object\n",
            "name                                              夏野菜のキーマカレー\n",
            "time                                                    約30分\n",
            "calorie                                              208kcal\n",
            "url        https://housefoods.jp/recipe/special/natsuyasa...\n",
            "dtype: object\n",
            "name                                            ゴーヤと豚バラ肉のカレー\n",
            "time                                                    約30分\n",
            "calorie                                              437kcal\n",
            "url        https://housefoods.jp/recipe/special/natsuyasa...\n",
            "dtype: object\n",
            "name                                                  夏野菜カレー\n",
            "time                                                    約30分\n",
            "calorie                                              329kcal\n",
            "url        https://housefoods.jp/recipe/special/natsuyasa...\n",
            "dtype: object\n"
          ],
          "name": "stdout"
        }
      ]
    },
    {
      "cell_type": "code",
      "metadata": {
        "id": "hp0Spio8EGsS",
        "colab_type": "code",
        "colab": {}
      },
      "source": [
        ""
      ],
      "execution_count": 0,
      "outputs": []
    }
  ]
}